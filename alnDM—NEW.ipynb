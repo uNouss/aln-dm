{
 "cells": [
  {
   "cell_type": "markdown",
   "metadata": {},
   "source": [
    "# dm Aln\n",
    "\n",
    "### GROUPE\n",
    "- Yue SHENG\n",
    "- Younoussa Sow"
   ]
  },
  {
   "cell_type": "markdown",
   "metadata": {},
   "source": [
    "### Méthode de Newton en une variable"
   ]
  },
  {
   "cell_type": "markdown",
   "metadata": {},
   "source": [
    "#### Question 1\n",
    "Cela permet de trouver la racine négative.\n",
    "\n",
    "En effet, la fonction `f(x) = x^2 - 4` admet deux racines réels `-2`  et `2`\n",
    "avec une première approximation de:\n",
    " - `u[0] > 0` (par exemple u[0]=3 ) on obtient la racine positive\n",
    " - `u[0] < 0` (par exemple u[0]=-3 )on obtient la racine négative"
   ]
  },
  {
   "cell_type": "code",
   "execution_count": 1,
   "metadata": {},
   "outputs": [
    {
     "name": "stdout",
     "output_type": "stream",
     "text": [
      "U_01: -2.1666666666666665186369300499791279435157775878906250000000000000\n",
      "U_02: -2.0064102564102563874826046230737119913101196289062500000000000000\n",
      "U_03: -2.0000102400262145252440859621856361627578735351562500000000000000\n",
      "U_04: -2.0000000000262141419682393461698666214942932128906250000000000000\n",
      "U_05: -2.0000000000000000000000000000000000000000000000000000000000000000\n"
     ]
    }
   ],
   "source": [
    "# import numpy as np\n",
    "from scipy import linalg\n",
    "import math\n",
    "\n",
    "def f(x):\n",
    "    return x**2-4\n",
    "\n",
    "def df(x):\n",
    "    return 2*x\n",
    "\n",
    "def tmp():\n",
    "    global a\n",
    "    global limit\n",
    "    for i in range(limit):\n",
    "        a = a  - f(a)/df(a)\n",
    "        print('U_{:02d}: {:.64f}'.format(i+1, a))\n",
    "\n",
    "a = -3\n",
    "limit = 5\n",
    "tmp()"
   ]
  },
  {
   "cell_type": "markdown",
   "metadata": {},
   "source": [
    "#### Quesiton 2\n",
    "En effet, on doit avoir le resultat `2`. Mais, ça donne un resultat légerement different `2.0312500`.\n",
    "Parce que `a = 3` est beaucoup plus grand que `2`, et la `limite = 5` n'est pas suffisante pour trouver la bonne valeur.\n",
    "Il faut donc choisir une limite plus grande pour affiner le resultat, par exemple `limite = 52`, nous donne le bon resultat.\n",
    "Ou choisir une première approximation plus proche de 2 qui permettra de trouver avec une plus petite limite le bon resultat."
   ]
  },
  {
   "cell_type": "code",
   "execution_count": 2,
   "metadata": {},
   "outputs": [
    {
     "name": "stdout",
     "output_type": "stream",
     "text": [
      "U_01: 2.5000000000000000000000000000000000000000000000000000000000000000\n",
      "U_02: 2.2500000000000000000000000000000000000000000000000000000000000000\n",
      "U_03: 2.1250000000000000000000000000000000000000000000000000000000000000\n",
      "U_04: 2.0625000000000000000000000000000000000000000000000000000000000000\n",
      "U_05: 2.0312500000000000000000000000000000000000000000000000000000000000\n"
     ]
    }
   ],
   "source": [
    "# import numpy as np\n",
    "from scipy import linalg\n",
    "import math\n",
    "\n",
    "def f(x):\n",
    "    return (x - 2)**2\n",
    "\n",
    "def df(x):\n",
    "    return 2*(x-2)\n",
    "\n",
    "def tmp():\n",
    "    global a\n",
    "    global limit\n",
    "    for i in range(limit):\n",
    "        a = a  - f(a)/df(a)\n",
    "        print('U_{:02d}: {:.64f}'.format(i+1, a))\n",
    "\n",
    "a = 3\n",
    "limit = 5\n",
    "tmp()"
   ]
  },
  {
   "cell_type": "markdown",
   "metadata": {},
   "source": [
    "#### Quesiton 3"
   ]
  },
  {
   "cell_type": "code",
   "execution_count": 1,
   "metadata": {},
   "outputs": [],
   "source": [
    "import numpy as np\n",
    "import scipy as cpi\n",
    "import math\n",
    "import sympy as sp"
   ]
  },
  {
   "cell_type": "code",
   "execution_count": 2,
   "metadata": {},
   "outputs": [],
   "source": [
    "def f(x):\n",
    "    return x**2 - 3"
   ]
  },
  {
   "cell_type": "code",
   "execution_count": 3,
   "metadata": {},
   "outputs": [],
   "source": [
    "def df(x):\n",
    "    assert a > 0\n",
    "    return 2*x"
   ]
  },
  {
   "cell_type": "code",
   "execution_count": 4,
   "metadata": {},
   "outputs": [],
   "source": [
    "def tmp():\n",
    "    global a\n",
    "    global limit\n",
    "    assert a > 0\n",
    "    for i in range(limit):\n",
    "        a = a  - f(a)/df(a)\n",
    "        print('U_{:02d}: {:.40f}'.format(i+1, a))"
   ]
  },
  {
   "cell_type": "code",
   "execution_count": 5,
   "metadata": {},
   "outputs": [
    {
     "name": "stdout",
     "output_type": "stream",
     "text": [
      "U_01: 1.7500000000000000000000000000000000000000\n",
      "U_02: 1.7321428571428572062984585500089451670647\n",
      "U_03: 1.7320508100147276042690691610914655029774\n",
      "U_04: 1.7320508075688771931766041234368458390236\n",
      "U_05: 1.7320508075688774152212090484681539237499\n",
      "U_06: 1.7320508075688771931766041234368458390236\n",
      "U_07: 1.7320508075688774152212090484681539237499\n"
     ]
    }
   ],
   "source": [
    "a = 2\n",
    "limit = 7\n",
    "tmp()"
   ]
  },
  {
   "cell_type": "markdown",
   "metadata": {},
   "source": [
    "### Méthode de Newton en deux variables"
   ]
  },
  {
   "cell_type": "markdown",
   "metadata": {},
   "source": [
    "#### Quesiton 4"
   ]
  },
  {
   "cell_type": "code",
   "execution_count": 19,
   "metadata": {},
   "outputs": [
    {
     "name": "stdout",
     "output_type": "stream",
     "text": [
      "Le nombre de itérations est: 10\n",
      "La solution au système de équations est: [1.999999999999856, -0.749999999999452]\n"
     ]
    }
   ],
   "source": [
    "import numpy as np\n",
    "from scipy.linalg import solve\n",
    " \n",
    "class NR:\n",
    "    \n",
    "    def __init__(self,h=1e-2,t=0.5,esp1=1e-8,para_num=2):\n",
    "        #  initialisation de la fonction\n",
    "        #  h= la longeur du chaque STEP d'itération  \n",
    "        #  t= learning rate\n",
    "        #  esp1=Marge d'erreur\n",
    "        #  para_num= les nombres de parametre\n",
    "  \n",
    "        self.h=h\n",
    "        self.t=t\n",
    "        self.esp1=esp1        \n",
    "        self.para_num=para_num\n",
    "        self.X=[]                  \n",
    "        for p in range(para_num):\n",
    "            self.X.append(0.33e-1)        # Attribuer des valeurs initiales aux variables\n",
    " \n",
    "    def solvefounction(self,X):\n",
    "        F1=X[0]*X[0]+2*X[0]*X[1]-1\n",
    "        F2=X[0]*X[0]*X[1]*X[1]-X[1]-3\n",
    "        F=[F1,F2]\n",
    "        return F\n",
    "    \n",
    "    def solve(self):\n",
    "        num=0\n",
    "        A=np.zeros((self.para_num,self.para_num),dtype=np.float64)\n",
    "        Finit=self.solvefounction(self.X)\n",
    "        themax=np.max(np.abs(np.array(Finit)))\n",
    "        while themax>self.esp1:\n",
    "            for m in range(self.para_num):   \n",
    "                for n in range(self.para_num):\n",
    "                    xori=self.X[n]\n",
    "                    self.X[n]=self.X[n]+self.h\n",
    "                    Fnew=self.solvefounction(self.X)\n",
    "                    A[m,n]=Fnew[m]\n",
    "                    self.X[n]=xori\n",
    " \n",
    "            ab=solve(A,np.array(Finit))        \n",
    "            beta=1-np.sum(ab) \n",
    "            for i in range(self.para_num):\n",
    "                self.X[i]=self.X[i]-self.h*ab[i]/beta\n",
    "            self.h=self.h*self.t\n",
    "      \n",
    "            Finit=self.solvefounction(self.X)\n",
    "            themax=np.max(np.abs(np.array(Finit)))    \n",
    "            num+=1   \n",
    "            if num==1000:           # Si le nombre d'itérations est supérieur à 1000, forcer l'arrêt\n",
    "                break\n",
    "        print('Le nombre de itérations est:',num)\n",
    "        return self.X \n",
    " \n",
    " \n",
    "def main():\n",
    "    new=NR()\n",
    "    Solution=new.solve()\n",
    "    print('La solution au système de équations est:',Solution)\n",
    " \n",
    " \n",
    " \n",
    " \n",
    "if __name__ == '__main__':\n",
    "    main()   \n"
   ]
  }
 ],
 "metadata": {
  "kernelspec": {
   "display_name": "Python 3",
   "language": "python",
   "name": "python3"
  },
  "language_info": {
   "codemirror_mode": {
    "name": "ipython",
    "version": 3
   },
   "file_extension": ".py",
   "mimetype": "text/x-python",
   "name": "python",
   "nbconvert_exporter": "python",
   "pygments_lexer": "ipython3",
   "version": "3.7.6"
  }
 },
 "nbformat": 4,
 "nbformat_minor": 4
}
