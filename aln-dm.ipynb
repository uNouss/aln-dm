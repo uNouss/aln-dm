{
 "cells": [
  {
   "cell_type": "markdown",
   "metadata": {},
   "source": [
    "# dm Aln\n",
    "\n",
    "### GROUPE\n",
    "- Yue Sheng\n",
    "- Younoussa Sow"
   ]
  },
  {
   "cell_type": "markdown",
   "metadata": {},
   "source": [
    "### Méthode de Newton en une variable"
   ]
  },
  {
   "cell_type": "code",
   "execution_count": 3,
   "metadata": {},
   "outputs": [],
   "source": [
    "import numpy as np\n",
    "import scipy as cpi\n",
    "import math\n",
    "import sympy as sp"
   ]
  },
  {
   "cell_type": "markdown",
   "metadata": {},
   "source": [
    "#### Question 1\n",
    "Cela permet de trouver la racine négative.\n",
    "\n",
    "En effet, la fonction `f(x) = x^2 - 4` admet deux racines réels `-2`  et `2`\n",
    "avec une première approximation de:\n",
    " - `u[0] > 0` on obtient la racine positive\n",
    " - `u[0] < 0` on obtient la racine négative"
   ]
  },
  {
   "cell_type": "code",
   "execution_count": 59,
   "metadata": {},
   "outputs": [],
   "source": [
    "def f(x):\n",
    "#    return (x - 2)**2\n",
    "    return x**2 - 3"
   ]
  },
  {
   "cell_type": "markdown",
   "metadata": {},
   "source": [
    "#### Quesiton 2\n",
    "En effet, on doit avoir le resultat `2`. Mais, ça donne un resultat légerement different `2.0312500`.\n",
    "Parce que `a = 3` est beaucoup plus grand que `2`, et la `limite = 5` n'est pas suffisante pour trouver la bonne valeur.\n",
    "Il faut donc choisir une limite plus grande pour affiner le resultat, par exemple `limite = 52`, nous donne le bon resultat.\n",
    "Ou choisir une première approximation plus proche de 2 qui permettra de trouver avec une plus petite limite le bon resultat."
   ]
  },
  {
   "cell_type": "code",
   "execution_count": 60,
   "metadata": {},
   "outputs": [],
   "source": [
    "def df(x):\n",
    "    #return 2*(x - 2)\n",
    "    assert a > 0\n",
    "    return 2*x"
   ]
  },
  {
   "cell_type": "code",
   "execution_count": 61,
   "metadata": {},
   "outputs": [],
   "source": [
    "def tmp():\n",
    "    global a\n",
    "    global limit\n",
    "    assert a > 0\n",
    "    for i in range(limit):\n",
    "        a = a  - f(a)/df(a)\n",
    "        print('U_{:02d}: {:.40f}'.format(i+1, a))"
   ]
  },
  {
   "cell_type": "code",
   "execution_count": 62,
   "metadata": {},
   "outputs": [
    {
     "name": "stdout",
     "output_type": "stream",
     "text": [
      "U_01: 1.7500000000000000000000000000000000000000\n",
      "U_02: 1.7321428571428572062984585500089451670647\n",
      "U_03: 1.7320508100147276042690691610914655029774\n",
      "U_04: 1.7320508075688771931766041234368458390236\n",
      "U_05: 1.7320508075688774152212090484681539237499\n",
      "U_06: 1.7320508075688771931766041234368458390236\n",
      "U_07: 1.7320508075688774152212090484681539237499\n"
     ]
    }
   ],
   "source": [
    "a = 2\n",
    "limit = 7\n",
    "tmp()"
   ]
  },
  {
   "cell_type": "markdown",
   "metadata": {},
   "source": [
    "### Méthode de Newton en deux variables"
   ]
  },
  {
   "cell_type": "code",
   "execution_count": 63,
   "metadata": {},
   "outputs": [],
   "source": [
    "def f1(x, y):\n",
    "    return x**2 + 2*x*y -1\n",
    "\n",
    "def f2(x, y):\n",
    "    return x**2*y**2 - y - 3"
   ]
  },
  {
   "cell_type": "code",
   "execution_count": 64,
   "metadata": {},
   "outputs": [],
   "source": [
    "def df1x(x,y):\n",
    "    return 2*x + 2*y\n",
    "\n",
    "def df1y(x,y):\n",
    "    return 2*x\n",
    "\n",
    "def df2x(x,y):\n",
    "    return 2*x*y**2\n",
    "\n",
    "def df2y(x,y):\n",
    "    return 2*x**2*y - 1"
   ]
  },
  {
   "cell_type": "code",
   "execution_count": 65,
   "metadata": {},
   "outputs": [],
   "source": [
    "def eval(x, y):\n",
    "    return f1(x,y), f2(x,y)"
   ]
  },
  {
   "cell_type": "code",
   "execution_count": 66,
   "metadata": {},
   "outputs": [
    {
     "data": {
      "text/plain": [
       "(0.0, 0.0)"
      ]
     },
     "execution_count": 66,
     "metadata": {},
     "output_type": "execute_result"
    }
   ],
   "source": [
    "eval(x=2,y=-3/4)"
   ]
  },
  {
   "cell_type": "code",
   "execution_count": 68,
   "metadata": {},
   "outputs": [
    {
     "ename": "TypeError",
     "evalue": "data type not understood",
     "output_type": "error",
     "traceback": [
      "\u001b[0;31m---------------------------------------------------------------------------\u001b[0m",
      "\u001b[0;31mTypeError\u001b[0m                                 Traceback (most recent call last)",
      "\u001b[0;32m<ipython-input-68-767f9a2e2adb>\u001b[0m in \u001b[0;36m<module>\u001b[0;34m\u001b[0m\n\u001b[0;32m----> 1\u001b[0;31m \u001b[0mJ\u001b[0m\u001b[0;34m=\u001b[0m \u001b[0mnp\u001b[0m\u001b[0;34m.\u001b[0m\u001b[0marray\u001b[0m\u001b[0;34m(\u001b[0m\u001b[0;34m[\u001b[0m\u001b[0mdf1x\u001b[0m\u001b[0;34m(\u001b[0m\u001b[0mx\u001b[0m\u001b[0;34m,\u001b[0m\u001b[0my\u001b[0m\u001b[0;34m)\u001b[0m\u001b[0;34m,\u001b[0m\u001b[0mdf1y\u001b[0m\u001b[0;34m(\u001b[0m\u001b[0mx\u001b[0m\u001b[0;34m,\u001b[0m\u001b[0my\u001b[0m\u001b[0;34m)\u001b[0m\u001b[0;34m]\u001b[0m\u001b[0;34m,\u001b[0m\u001b[0;34m[\u001b[0m\u001b[0mdf2x\u001b[0m\u001b[0;34m(\u001b[0m\u001b[0mx\u001b[0m\u001b[0;34m,\u001b[0m\u001b[0my\u001b[0m\u001b[0;34m)\u001b[0m\u001b[0;34m,\u001b[0m\u001b[0mdf2y\u001b[0m\u001b[0;34m(\u001b[0m\u001b[0mx\u001b[0m\u001b[0;34m,\u001b[0m\u001b[0my\u001b[0m\u001b[0;34m)\u001b[0m\u001b[0;34m]\u001b[0m\u001b[0;34m)\u001b[0m\u001b[0;34m\u001b[0m\u001b[0;34m\u001b[0m\u001b[0m\n\u001b[0m",
      "\u001b[0;31mTypeError\u001b[0m: data type not understood"
     ]
    }
   ],
   "source": [
    "J = np.array([df1x(x,y),df1y(x,y)],[df2x(x,y),df2y(x,y)])"
   ]
  },
  {
   "cell_type": "code",
   "execution_count": 20,
   "metadata": {},
   "outputs": [],
   "source": [
    "import sympy as sp"
   ]
  },
  {
   "cell_type": "code",
   "execution_count": 21,
   "metadata": {},
   "outputs": [],
   "source": [
    "x = Symbol(\"x\")\n",
    "y = Symbol(\"y\")"
   ]
  },
  {
   "cell_type": "code",
   "execution_count": 22,
   "metadata": {},
   "outputs": [],
   "source": [
    "f1 = x**2 + 2*x*y - 1\n",
    "f2 = x**2*y**2 - y - 3"
   ]
  },
  {
   "cell_type": "code",
   "execution_count": 23,
   "metadata": {},
   "outputs": [
    {
     "data": {
      "text/latex": [
       "$\\displaystyle x^{2} + 2 x y - 1$"
      ],
      "text/plain": [
       "x**2 + 2*x*y - 1"
      ]
     },
     "execution_count": 23,
     "metadata": {},
     "output_type": "execute_result"
    }
   ],
   "source": [
    "f1"
   ]
  },
  {
   "cell_type": "code",
   "execution_count": 24,
   "metadata": {},
   "outputs": [
    {
     "data": {
      "text/latex": [
       "$\\displaystyle x^{2} y^{2} - y - 3$"
      ],
      "text/plain": [
       "x**2*y**2 - y - 3"
      ]
     },
     "execution_count": 24,
     "metadata": {},
     "output_type": "execute_result"
    }
   ],
   "source": [
    "f2"
   ]
  },
  {
   "cell_type": "code",
   "execution_count": 25,
   "metadata": {},
   "outputs": [],
   "source": [
    "df1x = sp.diff(f1, x)\n",
    "df1y = sp.diff(f1, y)\n",
    "\n",
    "df2x = sp.diff(f2, x)\n",
    "df2y = sp.diff(f2, y)"
   ]
  },
  {
   "cell_type": "code",
   "execution_count": 26,
   "metadata": {},
   "outputs": [
    {
     "data": {
      "text/latex": [
       "$\\displaystyle 2 x y^{2}$"
      ],
      "text/plain": [
       "2*x*y**2"
      ]
     },
     "execution_count": 26,
     "metadata": {},
     "output_type": "execute_result"
    }
   ],
   "source": [
    "df2x"
   ]
  },
  {
   "cell_type": "code",
   "execution_count": 27,
   "metadata": {},
   "outputs": [],
   "source": [
    "a,b,x,y = sp.symbols(\"a b x y\")\n",
    "a = f1\n",
    "b = f2\n",
    "funcs = sp.Matrix([a,b])\n",
    "args = sp.Matrix([x,y])\n",
    "J = funcs.jacobian(args)"
   ]
  },
  {
   "cell_type": "code",
   "execution_count": 39,
   "metadata": {},
   "outputs": [
    {
     "data": {
      "text/latex": [
       "$\\displaystyle \\left[\\begin{matrix}2 x + 2 y & 2 x\\\\2 x y^{2} & 2 x^{2} y - 1\\end{matrix}\\right]$"
      ],
      "text/plain": [
       "Matrix([\n",
       "[2*x + 2*y,          2*x],\n",
       "[ 2*x*y**2, 2*x**2*y - 1]])"
      ]
     },
     "execution_count": 39,
     "metadata": {},
     "output_type": "execute_result"
    }
   ],
   "source": [
    "J"
   ]
  },
  {
   "cell_type": "code",
   "execution_count": 42,
   "metadata": {},
   "outputs": [
    {
     "ename": "TypeError",
     "evalue": "applyfunc() takes 2 positional arguments but 3 were given",
     "output_type": "error",
     "traceback": [
      "\u001b[0;31m---------------------------------------------------------------------------\u001b[0m",
      "\u001b[0;31mTypeError\u001b[0m                                 Traceback (most recent call last)",
      "\u001b[0;32m<ipython-input-42-1898333c7ce5>\u001b[0m in \u001b[0;36m<module>\u001b[0;34m\u001b[0m\n\u001b[0;32m----> 1\u001b[0;31m \u001b[0mJ\u001b[0m\u001b[0;34m.\u001b[0m\u001b[0mapplyfunc\u001b[0m\u001b[0;34m(\u001b[0m\u001b[0;36m2\u001b[0m\u001b[0;34m,\u001b[0m\u001b[0;36m4\u001b[0m\u001b[0;34m)\u001b[0m\u001b[0;34m\u001b[0m\u001b[0;34m\u001b[0m\u001b[0m\n\u001b[0m",
      "\u001b[0;31mTypeError\u001b[0m: applyfunc() takes 2 positional arguments but 3 were given"
     ]
    }
   ],
   "source": [
    "J"
   ]
  },
  {
   "cell_type": "code",
   "execution_count": 7,
   "metadata": {},
   "outputs": [
    {
     "name": "stdout",
     "output_type": "stream",
     "text": [
      "Number of function calls: 25\n",
      "A solution is: 3.000000000127320376464012952056\n"
     ]
    }
   ],
   "source": [
    "def Newton(f, dfdx, x, eps):\n",
    "    f_value = f(x)\n",
    "    iteration_counter = 0\n",
    "    while abs(f_value) > eps and iteration_counter < 100:\n",
    "        try:\n",
    "            x = x - float(f_value)/dfdx(x)\n",
    "        except ZeroDivisionError:\n",
    "            print(f\"Error! - derivative zero for x = {x}\")\n",
    "            sys.exit(1)     # Abort with error\n",
    "\n",
    "        f_value = f(x)\n",
    "        iteration_counter += 1\n",
    "\n",
    "    # Here, either a solution is found, or too many iterations\n",
    "    if abs(f_value) > eps:\n",
    "        iteration_counter = -1\n",
    "    return x, iteration_counter\n",
    "\n",
    "def f(x):\n",
    "    #return x**2 - 9\n",
    "    \n",
    "def dfdx(x):\n",
    "    return 2*x\n",
    "\n",
    "solution, no_iterations = Newton(f, dfdx, x=1000, eps=1.0e-6)\n",
    "\n",
    "if no_iterations > 0:    # Solution found\n",
    "    print(f\"Number of function calls: {1 + 2*no_iterations}\")\n",
    "    print(f\"A solution is: {solution:.30f}\")\n",
    "else:\n",
    "    print(\"Solution not found!\")"
   ]
  },
  {
   "cell_type": "code",
   "execution_count": null,
   "metadata": {},
   "outputs": [],
   "source": []
  },
  {
   "cell_type": "code",
   "execution_count": 9,
   "metadata": {},
   "outputs": [
    {
     "name": "stdout",
     "output_type": "stream",
     "text": [
      "10\n"
     ]
    }
   ],
   "source": [
    "from sympy import *\n",
    "x = symbols('x')             # define x as a mathematical symbol\n",
    "f_expr = x**2 - 9            # symbolic expression for f(x)\n",
    "dfdx_expr = diff(f_expr, x)  # compute f'(x) symbolically\n",
    "# Turn f_expr and dfdx_expr into plain Python functions\n",
    "f = lambdify([x],     # argument to f\n",
    "             f_expr)  # symbolic expression to be evaluated\n",
    "dfdx = lambdify([x], dfdx_expr)\n",
    "print(dfdx(5))         # will print 10"
   ]
  },
  {
   "cell_type": "code",
   "execution_count": 16,
   "metadata": {},
   "outputs": [
    {
     "data": {
      "text/plain": [
       "10"
      ]
     },
     "execution_count": 16,
     "metadata": {},
     "output_type": "execute_result"
    }
   ],
   "source": [
    "dfdx(5)"
   ]
  },
  {
   "cell_type": "code",
   "execution_count": 17,
   "metadata": {},
   "outputs": [],
   "source": [
    "u = np.array([3., -1])"
   ]
  },
  {
   "cell_type": "code",
   "execution_count": 18,
   "metadata": {},
   "outputs": [
    {
     "data": {
      "text/plain": [
       "array([ 3., -1.])"
      ]
     },
     "execution_count": 18,
     "metadata": {},
     "output_type": "execute_result"
    }
   ],
   "source": [
    "for n in range(6):\n",
    "    "
   ]
  },
  {
   "cell_type": "code",
   "execution_count": 72,
   "metadata": {},
   "outputs": [],
   "source": [
    "import numpy as np\n",
    "\n",
    "def Newton_system(F, J, x, eps):\n",
    "    \"\"\"\n",
    "    Solve nonlinear system F=0 by Newton's method.\n",
    "    J is the Jacobian of F. Both F and J must be functions of x.\n",
    "    At input, x holds the start value. The iteration continues\n",
    "    until ||F|| < eps.\n",
    "    \"\"\"\n",
    "    F_value = F(x)\n",
    "    F_norm = np.linalg.norm(F_value, ord=2)  # l2 norm of vector\n",
    "    iteration_counter = 0\n",
    "    while abs(F_norm) > eps and iteration_counter < 100:\n",
    "        delta = np.linalg.solve(J(x), -F_value)\n",
    "        x = x + delta\n",
    "        F_value = F(x)\n",
    "        # print(F(x))\n",
    "        # print(J(x))\n",
    "        F_norm = np.linalg.norm(F_value, ord=2)\n",
    "        iteration_counter += 1\n",
    "\n",
    "    # Here, either a solution is found, or too many iterations\n",
    "    if abs(F_norm) > eps:\n",
    "        iteration_counter = -1\n",
    "    return x, iteration_counter"
   ]
  },
  {
   "cell_type": "code",
   "execution_count": 73,
   "metadata": {},
   "outputs": [],
   "source": [
    "def test_Newton_system1():\n",
    "    def F(x):\n",
    "        return np.array(\n",
    "            [\n",
    "                x[0]**2 - 2*x[0]*x[1] - 1,\n",
    "                x[0]**2*x[1]**2 - x[1] - 3\n",
    "            ]\n",
    "        )\n",
    "    \n",
    "    def J(x):\n",
    "        return np.array(\n",
    "            [\n",
    "                [2*x[0] + 2*x[1], 2*x[0]],\n",
    "                [2*x[0]*x[1]**2,  2*x[0]**2*x[0] - 1]\n",
    "            ]\n",
    "        )\n",
    "\n",
    "    # expected = np.array([1, 0])\n",
    "    tol = 1e-4\n",
    "    x, n = Newton_system(F, J, x=np.array([2, -1]), eps=0.0000000001)\n",
    "    print(n)\n",
    "    print(x)\n",
    "    # error_norm = np.linalg.norm(expected - x, ord=2)\n",
    "    # assert error_norm < tol, 'norm of error =%g' % error_norm\n",
    "    # print(f\"norm of error = {error_norm}\")"
   ]
  },
  {
   "cell_type": "code",
   "execution_count": 74,
   "metadata": {},
   "outputs": [
    {
     "name": "stdout",
     "output_type": "stream",
     "text": [
      "[30.33163265  8.67898792]\n",
      "[[  -8.42857143   -9.85714286]\n",
      " [  -5.02915452 -240.43804665]]\n",
      "[ 2.37566229 -2.92613651]\n",
      "[[-1.21762206 -2.5658779 ]\n",
      " [-1.16605925 -5.22326144]]\n",
      "[31.61395972 29.40597371]\n",
      "[[  6.84873923   9.26123463]\n",
      " [ 13.47540679 197.5851048 ]]\n",
      "[-1.42209342 -1.91990564]\n",
      "[[-2.51213378 -0.46534223]\n",
      " [-0.48737102 -1.0251917 ]]\n",
      "[-3.40803458  1.51343855]\n",
      "[[-6.50977423 -0.94605358]\n",
      " [-7.32126918 -1.2116836 ]]\n",
      "[  456.32724257 43681.31184709]\n",
      "[[ 5.43177386e+01 -1.25142396e+01]\n",
      " [-1.39737544e+04 -4.90951855e+02]]\n",
      "[   736.17225225 127901.68101756]\n",
      "[[ 1.44344084e+02 -9.31282641e+00]\n",
      " [-5.49699968e+04 -2.02922415e+02]]\n",
      "[  1021.04036919 257153.78509756]\n",
      "[[ 3.65959489e+02 -5.46320268e+00]\n",
      " [-1.88418780e+05 -4.17644838e+01]]\n",
      "[  1314.29653678 430699.02982481]\n",
      "[[ 9.17057293e+02 -2.85518146e+00]\n",
      " [-6.04041448e+05 -6.81890348e+00]]\n",
      "[  1656.22997681 685020.74199661]\n",
      "[[ 2.29216291e+03 -1.44463096e+00]\n",
      " [-1.89991926e+06 -1.75372126e+00]]\n",
      "[   2079.54288524 1079161.49733803]\n",
      "[[ 5.72496070e+03 -7.26693835e-01]\n",
      " [-5.95589113e+06 -1.09593883e+00]]\n",
      "[   2613.55350975 1701780.02839365]\n",
      "[[ 1.42911016e+04 -3.65885456e-01]\n",
      " [-1.86826640e+07 -1.01224547e+00]]\n",
      "[   3294.05532516 2696506.26520566]\n",
      "[[ 3.56479305e+04 -1.84865132e-01]\n",
      " [-5.87311038e+07 -1.00157945e+00]]\n",
      "[4.17104597e+03 4.30707551e+06]\n",
      "[[ 8.88174652e+04 -9.39463729e-02]\n",
      " [-1.85275372e+08 -1.00020729e+00]]\n",
      "[5.31877956e+03 6.96456147e+06]\n",
      "[[ 2.20895227e+05 -4.81656205e-02]\n",
      " [-5.87557020e+08 -1.00002794e+00]]\n",
      "[6.85220942e+03 1.14676564e+07]\n",
      "[[ 5.47919748e+05 -2.50153749e-02]\n",
      " [-1.87750443e+09 -1.00000391e+00]]\n",
      "[8.95441146e+03 1.93728833e+07]\n",
      "[[ 1.35392423e+06 -1.32288220e-02]\n",
      " [-6.06247430e+09 -1.00000058e+00]]\n",
      "[1.19206414e+04 3.38671462e+07]\n",
      "[[ 3.32846817e+06 -7.16344020e-03]\n",
      " [-1.98404020e+10 -1.00000009e+00]]\n",
      "[1.62254681e+04 6.17593232e+07]\n",
      "[[ 8.13048161e+06 -3.99151462e-03]\n",
      " [-6.59645004e+10 -1.00000002e+00]]\n",
      "[2.26207285e+04 1.18077217e+08]\n",
      "[[ 1.97168588e+07 -2.29465846e-03]\n",
      " [-2.23014713e+11 -1.00000000e+00]]\n",
      "[3.22771714e+04 2.36738786e+08]\n",
      "[[ 4.74625955e+07 -1.36015197e-03]\n",
      " [-7.66002896e+11 -1.00000000e+00]]\n",
      "[4.69948481e+04 4.95409818e+08]\n",
      "[[ 1.13485227e+08 -8.28228470e-04]\n",
      " [-2.66666725e+12 -1.00000000e+00]]\n",
      "[6.95254384e+04 1.07355882e+09]\n",
      "[[ 2.69845170e+08 -5.15306154e-04]\n",
      " [-9.38068682e+12 -1.00000000e+00]]\n",
      "[1.04071516e+05 2.38830149e+09]\n",
      "[[ 6.38941300e+08 -3.25765500e-04]\n",
      " [-3.32481143e+13 -1.00000000e+00]]\n",
      "[1.57057449e+05 5.41265586e+09]\n",
      "[[ 1.50836643e+09 -2.08249727e-04]\n",
      " [-1.18450846e+14 -1.00000000e+00]]\n",
      "[2.38313946e+05 1.24216987e+10]\n",
      "[[ 3.55360937e+09 -1.34125573e-04]\n",
      " [-4.23439113e+14 -1.00000000e+00]]\n",
      "[3.62893832e+05 2.87427309e+10]\n",
      "[[ 8.36086785e+09 -8.68079341e-05]\n",
      " [-1.51705787e+15 -1.00000000e+00]]\n",
      "[5.53853598e+05 6.68615604e+10]\n",
      "[[ 1.96543373e+10 -5.63595291e-05]\n",
      " [-5.44282256e+15 -1.00000000e+00]]\n",
      "[8.46514218e+05 1.56058426e+11]\n",
      "[[ 4.61771548e+10 -3.66638101e-05]\n",
      " [-1.95448321e+16 -1.00000000e+00]]\n",
      "[1.29498840e+06 3.65022374e+11]\n",
      "[[ 1.08454021e+11 -2.38808922e-05]\n",
      " [-7.02234039e+16 -1.00000000e+00]]\n",
      "[1.98218037e+06 8.54928064e+11]\n",
      "[[ 2.54665367e+11 -1.55669488e-05]\n",
      " [-2.52396473e+17 -1.00000000e+00]]\n",
      "[3.03510613e+06 2.00401426e+12]\n",
      "[[ 5.97909133e+11 -1.01524027e-05]\n",
      " [-9.07359137e+17 -1.00000000e+00]]\n",
      "[4.64836515e+06 4.69999405e+12]\n",
      "[[ 1.40366582e+12 -6.62318065e-06]\n",
      " [-3.26237634e+18 -1.00000000e+00]]\n",
      "[7.12010098e+06 1.10264102e+13]\n",
      "[[ 3.29510577e+12 -4.32162271e-06]\n",
      " [-1.17307446e+19 -1.00000000e+00]]\n",
      "[1.09070961e+07 2.58736879e+13]\n",
      "[[ 7.73500750e+12 -2.82019043e-06]\n",
      " [-4.21832388e+19 -1.00000000e+00]]\n",
      "[1.67091818e+07 6.07207150e+13]\n",
      "[[ 1.81569647e+13 -1.84052600e-06]\n",
      " [-1.51694021e+20 -1.00000000e+00]]\n",
      "[2.55985621e+07 1.42511275e+14]\n",
      "[[ 4.26206669e+13 -1.20122771e-06]\n",
      " [-5.45513915e+20 -1.00000000e+00]]\n",
      "[3.92179489e+07 3.34489581e+14]\n",
      "[[ 1.00044635e+14 -7.84009059e-07]\n",
      " [-1.96177273e+21 -1.00000000e+00]]\n",
      "[6.00841230e+07 7.85107339e+14]\n",
      "[[ 2.34836301e+14 -5.11710700e-07]\n",
      " [-7.05496672e+21 -1.00000000e+00]]\n",
      "[9.20530164e+07 1.84282292e+15]\n",
      "[[ 5.51233159e+14 -3.33989405e-07]\n",
      " [-2.53713378e+22 -1.00000000e+00]]\n",
      "[1.41032260e+08 4.32556884e+15]\n",
      "[[ 1.29391162e+15 -2.17993654e-07]\n",
      " [-9.12416405e+22 -1.00000000e+00]]\n",
      "[2.16072869e+08 1.01532713e+16]\n",
      "[[ 3.03719992e+15 -1.42284259e-07]\n",
      " [-3.28128251e+23 -1.00000000e+00]]\n",
      "[3.31041804e+08 2.38325606e+16]\n",
      "[[ 7.12921688e+15 -9.28690514e-08]\n",
      " [-1.18003441e+24 -1.00000000e+00]]\n",
      "[5.07184480e+08 5.59418258e+16]\n",
      "[[ 1.67343973e+16 -6.06158048e-08]\n",
      " [-4.24371331e+24 -1.00000000e+00]]\n",
      "[7.77050765e+08 1.31311669e+17]\n",
      "[[ 3.92806081e+16 -3.95640904e-08]\n",
      " [-1.52615133e+25 -1.00000000e+00]]\n",
      "[1.19050994e+09 3.08226855e+17]\n",
      "[[ 9.22032550e+16 -2.58235991e-08]\n",
      " [-5.48844460e+25 -1.00000000e+00]]\n",
      "[1.82396620e+09 7.23498975e+17]\n",
      "[[ 2.16428403e+17 -1.68551463e-08]\n",
      " [-1.97379046e+26 -1.00000000e+00]]\n",
      "[2.79447753e+09 1.69826534e+18]\n",
      "[[ 5.08021659e+17 -1.10014110e-08]\n",
      " [-7.09827557e+26 -1.00000000e+00]]\n",
      "[4.28138720e+09 3.98633035e+18]\n",
      "[[ 1.19247747e+18 -7.18065926e-09]\n",
      " [-2.55272889e+27 -1.00000000e+00]]\n",
      "[6.55946501e+09 9.35709622e+18]\n",
      "[[ 2.79909814e+18 -4.68684174e-09]\n",
      " [-9.18029317e+27 -1.00000000e+00]]\n",
      "[1.00496827e+10 2.19638742e+19]\n",
      "[[ 6.57031305e+18 -3.05911839e-09]\n",
      " [-3.30147808e+28 -1.00000000e+00]]\n",
      "[1.53970066e+10 5.15557167e+19]\n",
      "[[ 1.54224721e+19 -1.99669760e-09]\n",
      " [-1.18729952e+29 -1.00000000e+00]]\n",
      "[2.35895820e+10 1.21016538e+20]\n",
      "[[ 3.62011130e+19 -1.30325175e-09]\n",
      " [-4.26984562e+29 -1.00000000e+00]]\n",
      "[3.61413358e+10 2.84061668e+20]\n",
      "[[ 8.49747411e+19 -8.50637150e-10]\n",
      " [-1.53555033e+30 -1.00000000e+00]]\n",
      "[5.53717383e+10 6.66776901e+20]\n",
      "[[ 1.99460901e+20 -5.55213960e-10]\n",
      " [-5.52224841e+30 -1.00000000e+00]]\n",
      "[8.48344244e+10 1.56512297e+21]\n",
      "[[ 4.68193847e+20 -3.62390172e-10]\n",
      " [-1.98594778e+31 -1.00000000e+00]]\n",
      "[1.29973878e+11 3.67380740e+21]\n",
      "[[ 1.09898971e+21 -2.36533385e-10]\n",
      " [-7.14199775e+31 -1.00000000e+00]]\n",
      "[1.99131534e+11 8.62351467e+21]\n",
      "[[ 2.57965455e+21 -1.54386202e-10]\n",
      " [-2.56845284e+32 -1.00000000e+00]]\n",
      "[3.05087209e+11 2.02419445e+22]\n",
      "[[ 6.05521372e+21 -1.00768436e-10]\n",
      " [-9.23684129e+32 -1.00000000e+00]]\n",
      "[4.67420722e+11 4.75138424e+22]\n",
      "[[ 1.42133811e+22 -6.57719256e-11]\n",
      " [-3.32181443e+33 -1.00000000e+00]]\n",
      "[7.16130094e+11 1.11529069e+23]\n",
      "[[ 3.33630177e+22 -4.29295755e-11]\n",
      " [-1.19461305e+34 -1.00000000e+00]]\n",
      "[1.09717496e+12 2.61791777e+23]\n",
      "[[ 7.83128898e+22 -2.80202904e-11]\n",
      " [-4.29614708e+34 -1.00000000e+00]]\n",
      "[1.68096956e+12 6.14502883e+23]\n",
      "[[ 1.83823561e+23 -1.82889457e-11]\n",
      " [-1.54500905e+35 -1.00000000e+00]]\n",
      "[2.57539478e+12 1.44242038e+24]\n",
      "[[ 4.31488375e+23 -1.19372615e-11]\n",
      " [-5.55626453e+35 -1.00000000e+00]]\n",
      "[3.94573371e+12 3.38578809e+24]\n",
      "[[ 1.01283109e+24 -7.79149408e-12]\n",
      " [-1.99818089e+36 -1.00000000e+00]]\n",
      "[6.04521477e+12 7.94744805e+24]\n",
      "[[ 2.37741472e+24 -5.08553658e-12]\n",
      " [-7.18599130e+36 -1.00000000e+00]]\n",
      "[9.26180637e+12 1.86550158e+25]\n",
      "[[ 5.58049692e+24 -3.31934826e-12]\n",
      " [-2.58427409e+37 -1.00000000e+00]]\n",
      "[1.41899106e+13 4.37888507e+25]\n",
      "[[ 1.30990801e+25 -2.16655071e-12]\n",
      " [-9.29373876e+37 -1.00000000e+00]]\n",
      "[2.17402043e+13 1.02785410e+26]\n",
      "[[ 3.07474229e+25 -1.41411554e-12]\n",
      " [-3.34227628e+38 -1.00000000e+00]]\n",
      "[3.33079254e+13 2.41267817e+26]\n",
      "[[ 7.21733137e+25 -9.22998369e-13]\n",
      " [-1.20197168e+39 -1.00000000e+00]]\n",
      "[5.10307024e+13 5.66327068e+26]\n",
      "[[ 1.69412156e+26 -6.02444399e-13]\n",
      " [-4.32261066e+39 -1.00000000e+00]]\n",
      "[7.81835720e+13 1.32933746e+27]\n",
      "[[ 3.97660537e+26 -3.93217655e-13]\n",
      " [-1.55452606e+40 -1.00000000e+00]]\n",
      "[1.19784182e+14 3.12034898e+27]\n",
      "[[ 9.33427129e+26 -2.56654597e-13]\n",
      " [-5.59049024e+40 -1.00000000e+00]]\n",
      "[1.83520014e+14 7.32438379e+27]\n",
      "[[ 2.19103010e+27 -1.67519391e-13]\n",
      " [-2.01048937e+41 -1.00000000e+00]]\n",
      "[2.81168973e+14 1.71924994e+28]\n",
      "[[ 5.14299696e+27 -1.09340517e-13]\n",
      " [-7.23025588e+41 -1.00000000e+00]]\n",
      "[4.30775859e+14 4.03558911e+28]\n",
      "[[ 1.20721380e+28 -7.13669539e-14]\n",
      " [-2.60019281e+42 -1.00000000e+00]]\n",
      "[6.59986906e+14 9.47272362e+28]\n",
      "[[ 2.83368856e+28 -4.65814709e-14]\n",
      " [-9.35098673e+42 -1.00000000e+00]]\n",
      "[1.01115860e+15 2.22352896e+29]\n",
      "[[ 6.65150683e+28 -3.04038958e-14]\n",
      " [-3.36286418e+43 -1.00000000e+00]]\n",
      "[1.54918486e+15 5.21928143e+29]\n",
      "[[ 1.56130577e+29 -1.98447336e-14]\n",
      " [-1.20937563e+44 -1.00000000e+00]]\n",
      "[2.37348891e+15 1.22512003e+30]\n",
      "[[ 3.66484735e+29 -1.29527300e-14]\n",
      " [-4.34923726e+44 -1.00000000e+00]]\n",
      "[3.63639597e+15 2.87571978e+30]\n",
      "[[ 8.60248283e+29 -8.45429405e-15]\n",
      " [-1.56410170e+45 -1.00000000e+00]]\n",
      "[5.57128186e+15 6.75016655e+30]\n",
      "[[ 2.01925766e+30 -5.51814854e-15]\n",
      " [-5.62492678e+45 -1.00000000e+00]]\n",
      "[8.53569901e+15 1.58446413e+31]\n",
      "[[ 4.73979615e+30 -3.60171567e-15]\n",
      " [-2.02287366e+46 -1.00000000e+00]]\n",
      "[1.30774496e+16 3.71920689e+31]\n",
      "[[ 1.11257062e+31 -2.35085294e-15]\n",
      " [-7.27479311e+46 -1.00000000e+00]]\n",
      "[2.00358152e+16 8.73008077e+31]\n",
      "[[ 2.61153297e+31 -1.53441028e-15]\n",
      " [-2.61620959e+47 -1.00000000e+00]]\n",
      "[3.06966498e+16 2.04920868e+32]\n",
      "[[ 6.13004181e+31 -1.00151518e-15]\n",
      " [-9.40858733e+47 -1.00000000e+00]]\n",
      "[4.70299960e+16 4.81010006e+32]\n",
      "[[ 1.43890248e+32 -6.53692611e-16]\n",
      " [-3.38357889e+48 -1.00000000e+00]]\n",
      "[7.20541341e+16 1.12907303e+33]\n",
      "[[ 3.37753055e+32 -4.26667550e-16]\n",
      " [-1.21682520e+49 -1.00000000e+00]]\n",
      "[1.10393338e+17 2.65026902e+33]\n",
      "[[ 7.92806514e+32 -2.78487465e-16]\n",
      " [-4.37602788e+49 -1.00000000e+00]]\n",
      "[1.69132406e+17 6.22096681e+33]\n",
      "[[ 1.86095184e+33 -1.81769783e-16]\n",
      " [-1.57373632e+50 -1.00000000e+00]]\n",
      "[2.59125880e+17 1.46024527e+34]\n",
      "[[ 4.36820548e+33 -1.18641800e-16]\n",
      " [-5.65957544e+50 -1.00000000e+00]]\n",
      "[3.97003881e+17 3.42762840e+34]\n",
      "[[ 1.02534728e+34 -7.74379353e-17]\n",
      " [-2.03533425e+51 -1.00000000e+00]]\n",
      "[6.08245234e+17 8.04565966e+34]\n",
      "[[ 2.40679393e+34 -5.05440226e-17]\n",
      " [-7.31960469e+51 -1.00000000e+00]]\n",
      "[9.31885763e+17 1.88855476e+35]\n",
      "[[ 5.64945862e+34 -3.29902678e-17]\n",
      " [-2.63232503e+52 -1.00000000e+00]]\n",
      "[1.42773182e+18 4.43299770e+35]\n",
      "[[ 1.32609536e+35 -2.15328680e-17]\n",
      " [-9.46654274e+52 -1.00000000e+00]]\n",
      "[2.18741206e+18 1.04055593e+36]\n",
      "[[ 3.11273881e+35 -1.40545814e-17]\n",
      " [-3.40442120e+53 -1.00000000e+00]]\n",
      "[3.35130970e+18 2.44249315e+36]\n",
      "[[ 7.30652047e+35 -9.17347652e-18]\n",
      " [-1.22432065e+54 -1.00000000e+00]]\n",
      "[5.13450435e+18 5.73325528e+36]\n",
      "[[ 1.71505689e+36 -5.98756156e-18]\n",
      " [-4.40298352e+54 -1.00000000e+00]]\n",
      "[7.86651705e+18 1.34576492e+37]\n",
      "[[ 4.02574678e+36 -3.90810325e-18]\n",
      " [-1.58343028e+55 -1.00000000e+00]]\n",
      "[1.20522033e+19 3.15890910e+37]\n",
      "[[ 9.44962075e+36 -2.55083324e-18]\n",
      " [-5.69443754e+55 -1.00000000e+00]]\n",
      "-1\n",
      "[-1.27541662e-18  4.72481037e+36]\n"
     ]
    }
   ],
   "source": [
    "test_Newton_system1()"
   ]
  },
  {
   "cell_type": "code",
   "execution_count": null,
   "metadata": {},
   "outputs": [],
   "source": []
  }
 ],
 "metadata": {
  "kernelspec": {
   "display_name": "Python 3",
   "language": "python",
   "name": "python3"
  },
  "language_info": {
   "codemirror_mode": {
    "name": "ipython",
    "version": 3
   },
   "file_extension": ".py",
   "mimetype": "text/x-python",
   "name": "python",
   "nbconvert_exporter": "python",
   "pygments_lexer": "ipython3",
   "version": "3.7.5"
  }
 },
 "nbformat": 4,
 "nbformat_minor": 4
}
