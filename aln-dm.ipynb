{
 "cells": [
  {
   "cell_type": "markdown",
   "metadata": {},
   "source": [
    "# dm Aln\n",
    "\n",
    "### GROUPE\n",
    "- Yue Sheng\n",
    "- Younoussa Sow"
   ]
  },
  {
   "cell_type": "markdown",
   "metadata": {},
   "source": [
    "### Méthode de Newton en une variable"
   ]
  },
  {
   "cell_type": "code",
   "execution_count": 3,
   "metadata": {},
   "outputs": [],
   "source": [
    "import numpy as np\n",
    "import scipy as cpi\n",
    "import math\n",
    "import sympy as sp"
   ]
  },
  {
   "cell_type": "markdown",
   "metadata": {},
   "source": [
    "#### Question 1\n",
    "Cela permet de trouver la racine négative.\n",
    "\n",
    "En effet, la fonction `f(x) = x^2 - 4` admet deux racines réels `-2`  et `2`\n",
    "avec une première approximation de:\n",
    " - `u[0] > 0` on obtient la racine positive\n",
    " - `u[0] < 0` on obtient la racine négative"
   ]
  },
  {
   "cell_type": "code",
   "execution_count": 59,
   "metadata": {},
   "outputs": [],
   "source": [
    "def f(x):\n",
    "#    return (x - 2)**2\n",
    "    return x**2 - 3"
   ]
  },
  {
   "cell_type": "markdown",
   "metadata": {},
   "source": [
    "#### Quesiton 2\n",
    "En effet, on doit avoir le resultat `2`. Mais, ça donne un resultat légerement different `2.0312500`.\n",
    "Parce que `a = 3` est beaucoup plus grand que `2`, et la `limite = 5` n'est pas suffisante pour trouver la bonne valeur.\n",
    "Il faut donc choisir une limite plus grande pour affiner le resultat, par exemple `limite = 52`, nous donne le bon resultat.\n",
    "Ou choisir une première approximation plus proche de 2 qui permettra de trouver avec une plus petite limite le bon resultat."
   ]
  },
  {
   "cell_type": "code",
   "execution_count": 60,
   "metadata": {},
   "outputs": [],
   "source": [
    "def df(x):\n",
    "    #return 2*(x - 2)\n",
    "    assert a > 0\n",
    "    return 2*x"
   ]
  },
  {
   "cell_type": "code",
   "execution_count": 61,
   "metadata": {},
   "outputs": [],
   "source": [
    "def tmp():\n",
    "    global a\n",
    "    global limit\n",
    "    assert a > 0\n",
    "    for i in range(limit):\n",
    "        a = a  - f(a)/df(a)\n",
    "        print('U_{:02d}: {:.40f}'.format(i+1, a))"
   ]
  },
  {
   "cell_type": "code",
   "execution_count": 62,
   "metadata": {},
   "outputs": [
    {
     "name": "stdout",
     "output_type": "stream",
     "text": [
      "U_01: 1.7500000000000000000000000000000000000000\n",
      "U_02: 1.7321428571428572062984585500089451670647\n",
      "U_03: 1.7320508100147276042690691610914655029774\n",
      "U_04: 1.7320508075688771931766041234368458390236\n",
      "U_05: 1.7320508075688774152212090484681539237499\n",
      "U_06: 1.7320508075688771931766041234368458390236\n",
      "U_07: 1.7320508075688774152212090484681539237499\n"
     ]
    }
   ],
   "source": [
    "a = 2\n",
    "limit = 7\n",
    "tmp()"
   ]
  },
  {
   "cell_type": "markdown",
   "metadata": {},
   "source": [
    "### Méthode de Newton en deux variables"
   ]
  },
  {
   "cell_type": "code",
   "execution_count": 63,
   "metadata": {},
   "outputs": [],
   "source": [
    "def f1(x, y):\n",
    "    return x**2 + 2*x*y -1\n",
    "\n",
    "def f2(x, y):\n",
    "    return x**2*y**2 - y - 3"
   ]
  },
  {
   "cell_type": "code",
   "execution_count": 64,
   "metadata": {},
   "outputs": [],
   "source": [
    "def df1x(x,y):\n",
    "    return 2*x + 2*y\n",
    "\n",
    "def df1y(x,y):\n",
    "    return 2*x\n",
    "\n",
    "def df2x(x,y):\n",
    "    return 2*x*y**2\n",
    "\n",
    "def df2y(x,y):\n",
    "    return 2*x**2*y - 1"
   ]
  },
  {
   "cell_type": "code",
   "execution_count": 65,
   "metadata": {},
   "outputs": [],
   "source": [
    "def eval(x, y):\n",
    "    return f1(x,y), f2(x,y)"
   ]
  },
  {
   "cell_type": "code",
   "execution_count": 66,
   "metadata": {},
   "outputs": [
    {
     "data": {
      "text/plain": [
       "(0.0, 0.0)"
      ]
     },
     "execution_count": 66,
     "metadata": {},
     "output_type": "execute_result"
    }
   ],
   "source": [
    "eval(x=2,y=-3/4)"
   ]
  },
  {
   "cell_type": "code",
   "execution_count": 68,
   "metadata": {},
   "outputs": [
    {
     "ename": "TypeError",
     "evalue": "data type not understood",
     "output_type": "error",
     "traceback": [
      "\u001b[0;31m---------------------------------------------------------------------------\u001b[0m",
      "\u001b[0;31mTypeError\u001b[0m                                 Traceback (most recent call last)",
      "\u001b[0;32m\u001b[0m in \u001b[0;36m\u001b[0;34m\u001b[0m\n\u001b[0;32m----> 1\u001b[0;31m \u001b[0mJ\u001b[0m\u001b[0;34m=\u001b[0m \u001b[0mnp\u001b[0m\u001b[0;34m.\u001b[0m\u001b[0marray\u001b[0m\u001b[0;34m(\u001b[0m\u001b[0;34m[\u001b[0m\u001b[0mdf1x\u001b[0m\u001b[0;34m(\u001b[0m\u001b[0mx\u001b[0m\u001b[0;34m,\u001b[0m\u001b[0my\u001b[0m\u001b[0;34m)\u001b[0m\u001b[0;34m,\u001b[0m\u001b[0mdf1y\u001b[0m\u001b[0;34m(\u001b[0m\u001b[0mx\u001b[0m\u001b[0;34m,\u001b[0m\u001b[0my\u001b[0m\u001b[0;34m)\u001b[0m\u001b[0;34m]\u001b[0m\u001b[0;34m,\u001b[0m\u001b[0;34m[\u001b[0m\u001b[0mdf2x\u001b[0m\u001b[0;34m(\u001b[0m\u001b[0mx\u001b[0m\u001b[0;34m,\u001b[0m\u001b[0my\u001b[0m\u001b[0;34m)\u001b[0m\u001b[0;34m,\u001b[0m\u001b[0mdf2y\u001b[0m\u001b[0;34m(\u001b[0m\u001b[0mx\u001b[0m\u001b[0;34m,\u001b[0m\u001b[0my\u001b[0m\u001b[0;34m)\u001b[0m\u001b[0;34m]\u001b[0m\u001b[0;34m)\u001b[0m\u001b[0;34m\u001b[0m\u001b[0;34m\u001b[0m\u001b[0m\n\u001b[0m",
      "\u001b[0;31mTypeError\u001b[0m: data type not understood"
     ]
    }
   ],
   "source": [
    "J = np.array([df1x(x,y),df1y(x,y)],[df2x(x,y),df2y(x,y)])"
   ]
  },
  {
   "cell_type": "code",
   "execution_count": 20,
   "metadata": {},
   "outputs": [],
   "source": [
    "import sympy as sp"
   ]
  },
  {
   "cell_type": "code",
   "execution_count": 21,
   "metadata": {},
   "outputs": [],
   "source": [
    "x = Symbol(\"x\")\n",
    "y = Symbol(\"y\")"
   ]
  },
  {
   "cell_type": "code",
   "execution_count": 22,
   "metadata": {},
   "outputs": [],
   "source": [
    "f1 = x**2 + 2*x*y - 1\n",
    "f2 = x**2*y**2 - y - 3"
   ]
  },
  {
   "cell_type": "code",
   "execution_count": 23,
   "metadata": {},
   "outputs": [
    {
     "data": {
      "text/latex": [
       "$\\displaystyle x^{2} + 2 x y - 1$"
      ],
      "text/plain": [
       "x**2 + 2*x*y - 1"
      ]
     },
     "execution_count": 23,
     "metadata": {},
     "output_type": "execute_result"
    }
   ],
   "source": [
    "f1"
   ]
  },
  {
   "cell_type": "code",
   "execution_count": 24,
   "metadata": {},
   "outputs": [
    {
     "data": {
      "text/latex": [
       "$\\displaystyle x^{2} y^{2} - y - 3$"
      ],
      "text/plain": [
       "x**2*y**2 - y - 3"
      ]
     },
     "execution_count": 24,
     "metadata": {},
     "output_type": "execute_result"
    }
   ],
   "source": [
    "f2"
   ]
  },
  {
   "cell_type": "code",
   "execution_count": 25,
   "metadata": {},
   "outputs": [],
   "source": [
    "df1x = sp.diff(f1, x)\n",
    "df1y = sp.diff(f1, y)\n",
    "\n",
    "df2x = sp.diff(f2, x)\n",
    "df2y = sp.diff(f2, y)"
   ]
  },
  {
   "cell_type": "code",
   "execution_count": 26,
   "metadata": {},
   "outputs": [
    {
     "data": {
      "text/latex": [
       "$\\displaystyle 2 x y^{2}$"
      ],
      "text/plain": [
       "2*x*y**2"
      ]
     },
     "execution_count": 26,
     "metadata": {},
     "output_type": "execute_result"
    }
   ],
   "source": [
    "df2x"
   ]
  },
  {
   "cell_type": "code",
   "execution_count": 27,
   "metadata": {},
   "outputs": [],
   "source": [
    "a,b,x,y = sp.symbols(\"a b x y\")\n",
    "a = f1\n",
    "b = f2\n",
    "funcs = sp.Matrix([a,b])\n",
    "args = sp.Matrix([x,y])\n",
    "J = funcs.jacobian(args)"
   ]
  },
  {
   "cell_type": "code",
   "execution_count": 39,
   "metadata": {},
   "outputs": [
    {
     "data": {
      "text/latex": [
       "$\\displaystyle \\left[\\begin{matrix}2 x + 2 y & 2 x\\\\2 x y^{2} & 2 x^{2} y - 1\\end{matrix}\\right]$"
      ],
      "text/plain": [
       "Matrix([\n",
       "[2*x + 2*y,          2*x],\n",
       "[ 2*x*y**2, 2*x**2*y - 1]])"
      ]
     },
     "execution_count": 39,
     "metadata": {},
     "output_type": "execute_result"
    }
   ],
   "source": [
    "J"
   ]
  },
  {
   "cell_type": "code",
   "execution_count": 42,
   "metadata": {},
   "outputs": [
    {
     "ename": "TypeError",
     "evalue": "applyfunc() takes 2 positional arguments but 3 were given",
     "output_type": "error",
     "traceback": [
      "\u001b[0;31m---------------------------------------------------------------------------\u001b[0m",
      "\u001b[0;31mTypeError\u001b[0m                                 Traceback (most recent call last)",
      "\u001b[0;32m\u001b[0m in \u001b[0;36m\u001b[0;34m\u001b[0m\n\u001b[0;32m----> 1\u001b[0;31m \u001b[0mJ\u001b[0m\u001b[0;34m.\u001b[0m\u001b[0mapplyfunc\u001b[0m\u001b[0;34m(\u001b[0m\u001b[0;36m2\u001b[0m\u001b[0;34m,\u001b[0m\u001b[0;36m4\u001b[0m\u001b[0;34m)\u001b[0m\u001b[0;34m\u001b[0m\u001b[0;34m\u001b[0m\u001b[0m\n\u001b[0m",
      "\u001b[0;31mTypeError\u001b[0m: applyfunc() takes 2 positional arguments but 3 were given"
     ]
    }
   ],
   "source": [
    "J"
   ]
  },
  {
   "cell_type": "code",
   "execution_count": 7,
   "metadata": {},
   "outputs": [
    {
     "name": "stdout",
     "output_type": "stream",
     "text": [
      "Number of function calls: 25\n",
      "A solution is: 3.000000000127320376464012952056\n"
     ]
    }
   ],
   "source": [
    "def Newton(f, dfdx, x, eps):\n",
    "    f_value = f(x)\n",
    "    iteration_counter = 0\n",
    "    while abs(f_value) > eps and iteration_counter < 100:\n",
    "        try:\n",
    "            x = x - float(f_value)/dfdx(x)\n",
    "        except ZeroDivisionError:\n",
    "            print(f\"Error! - derivative zero for x = {x}\")\n",
    "            sys.exit(1)     # Abort with error\n",
    "\n",
    "        f_value = f(x)\n",
    "        iteration_counter += 1\n",
    "\n",
    "    # Here, either a solution is found, or too many iterations\n",
    "    if abs(f_value) > eps:\n",
    "        iteration_counter = -1\n",
    "    return x, iteration_counter\n",
    "\n",
    "def f(x):\n",
    "    #return x**2 - 9\n",
    "    \n",
    "def dfdx(x):\n",
    "    return 2*x\n",
    "\n",
    "solution, no_iterations = Newton(f, dfdx, x=1000, eps=1.0e-6)\n",
    "\n",
    "if no_iterations > 0:    # Solution found\n",
    "    print(f\"Number of function calls: {1 + 2*no_iterations}\")\n",
    "    print(f\"A solution is: {solution:.30f}\")\n",
    "else:\n",
    "    print(\"Solution not found!\")"
   ]
  },
  {
   "cell_type": "code",
   "execution_count": null,
   "metadata": {},
   "outputs": [],
   "source": []
  },
  {
   "cell_type": "code",
   "execution_count": 9,
   "metadata": {},
   "outputs": [
    {
     "name": "stdout",
     "output_type": "stream",
     "text": [
      "10\n"
     ]
    }
   ],
   "source": [
    "from sympy import *\n",
    "x = symbols('x')             # define x as a mathematical symbol\n",
    "f_expr = x**2 - 9            # symbolic expression for f(x)\n",
    "dfdx_expr = diff(f_expr, x)  # compute f'(x) symbolically\n",
    "# Turn f_expr and dfdx_expr into plain Python functions\n",
    "f = lambdify([x],     # argument to f\n",
    "             f_expr)  # symbolic expression to be evaluated\n",
    "dfdx = lambdify([x], dfdx_expr)\n",
    "print(dfdx(5))         # will print 10"
   ]
  },
  {
   "cell_type": "code",
   "execution_count": 16,
   "metadata": {},
   "outputs": [
    {
     "data": {
      "text/plain": [
       "10"
      ]
     },
     "execution_count": 16,
     "metadata": {},
     "output_type": "execute_result"
    }
   ],
   "source": [
    "dfdx(5)"
   ]
  },
  {
   "cell_type": "code",
   "execution_count": 17,
   "metadata": {},
   "outputs": [],
   "source": [
    "u = np.array([3., -1])"
   ]
  },
  {
   "cell_type": "code",
   "execution_count": 18,
   "metadata": {},
   "outputs": [
    {
     "data": {
      "text/plain": [
       "array([ 3., -1.])"
      ]
     },
     "execution_count": 18,
     "metadata": {},
     "output_type": "execute_result"
    }
   ],
   "source": [
    "for n in range(6):\n",
    "    "
   ]
  },
  {
   "cell_type": "code",
   "execution_count": 1,
   "metadata": {},
   "outputs": [],
   "source": [
    "import numpy as np\n",
    "\n",
    "def Newton_system(F, J, x, eps):\n",
    "    \"\"\"\n",
    "    Solve nonlinear system F=0 by Newton's method.\n",
    "    J is the Jacobian of F. Both F and J must be functions of x.\n",
    "    At input, x holds the start value. The iteration continues\n",
    "    until ||F|| < eps.\n",
    "    \"\"\"\n",
    "    F_value = F(x)\n",
    "    F_norm = np.linalg.norm(F_value, ord=2)  # l2 norm of vector\n",
    "    iteration_counter = 0\n",
    "    while abs(F_norm) > eps and iteration_counter < 100:\n",
    "        delta = np.linalg.solve(J(x), -F_value)\n",
    "        x = x + delta\n",
    "        F_value = F(x)\n",
    "        # print(F(x))\n",
    "        # print(J(x))\n",
    "        F_norm = np.linalg.norm(F_value, ord=2)\n",
    "        iteration_counter += 1\n",
    "\n",
    "    # Here, either a solution is found, or too many iterations\n",
    "    if abs(F_norm) > eps:\n",
    "        iteration_counter = -1\n",
    "    return x, iteration_counter"
   ]
  },
  {
   "cell_type": "code",
   "execution_count": 2,
   "metadata": {},
   "outputs": [],
   "source": [
    "def test_Newton_system1():\n",
    "    def F(x):\n",
    "        return np.array(\n",
    "            [\n",
    "                x[0]**2 - 2*x[0]*x[1] - 1,\n",
    "                x[0]**2*x[1]**2 - x[1] - 3\n",
    "            ]\n",
    "        )\n",
    "    \n",
    "    def J(x):\n",
    "        return np.array(\n",
    "            [\n",
    "                [2*x[0] + 2*x[1], 2*x[0]],\n",
    "                [2*x[0]*x[1]**2,  2*x[0]**2*x[0] - 1]\n",
    "            ]\n",
    "        )\n",
    "\n",
    "    # expected = np.array([1, 0])\n",
    "    tol = 1e-4\n",
    "    x, n = Newton_system(F, J, x=np.array([2, -1]), eps=0.0000000001)\n",
    "    print(n)\n",
    "    print(x)\n",
    "    # error_norm = np.linalg.norm(expected - x, ord=2)\n",
    "    # assert error_norm < tol, 'norm of error =%g' % error_norm\n",
    "    # print(f\"norm of error = {error_norm}\")"
   ]
  },
  {
   "cell_type": "code",
   "execution_count": 3,
   "metadata": {},
   "outputs": [
    {
     "name": "stdout",
     "output_type": "stream",
     "text": [
      "-1\n",
      "[-1.27541662e-18  4.72481037e+36]\n"
     ]
    }
   ],
   "source": [
    "test_Newton_system1()"
   ]
  },
  {
   "cell_type": "code",
   "execution_count": 4,
   "metadata": {},
   "outputs": [],
   "source": [
    "import secrets"
   ]
  },
  {
   "cell_type": "code",
   "execution_count": 5,
   "metadata": {},
   "outputs": [
    {
     "data": {
      "text/plain": [
       "'542f9b3262d5832877207179f31b530472'"
      ]
     },
     "execution_count": 5,
     "metadata": {},
     "output_type": "execute_result"
    }
   ],
   "source": [
    "secrets.token_hex(17)"
   ]
  },
  {
   "cell_type": "code",
   "execution_count": null,
   "metadata": {},
   "outputs": [],
   "source": []
  }
 ],
 "metadata": {
  "kernelspec": {
   "display_name": "Python 3",
   "language": "python",
   "name": "python3"
  },
  "language_info": {
   "codemirror_mode": {
    "name": "ipython",
    "version": 3
   },
   "file_extension": ".py",
   "mimetype": "text/x-python",
   "name": "python",
   "nbconvert_exporter": "python",
   "pygments_lexer": "ipython3",
   "version": "3.7.6"
  }
 },
 "nbformat": 4,
 "nbformat_minor": 4
}
